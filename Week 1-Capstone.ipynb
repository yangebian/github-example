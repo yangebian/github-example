{
 "cells": [
  {
   "cell_type": "markdown",
   "metadata": {},
   "source": [
    "# Battle of Neighborhoods #\n",
    "## Explore Asian restaurants in Boston, USA ##\n",
    "\n",
    "### Yange Bian"
   ]
  },
  {
   "cell_type": "markdown",
   "metadata": {},
   "source": [
    "## Background\n",
    "#### As one of the 50 largest cities in USA, Boston is the home for many intellectuals, scholars and students from all over the world. According to general statistics, Boston’s diversity index increased from 48.7 percent in 1980 to 70.2 percent in 2017, which indicates an above-average, 21.5 percentage point increase (Schuster and Ciurczak, 2018). More importantly, the city of Boston remains home to the largest number of Asian Americans in the state (60,985) and neighborhoods in Greater Boston in 2016 had at least 4,000 Asian Americans. Among Boston's neighborhoods, Dorchester has the most concentrated, flourishing Asian American communities, and their affluent economic businesses (Tanabe and Lo). In addition, because many colleges' off-campus housing are located around Back Bay, Fenway, Brookline, East Boston and Allston, these neighborhoods could have increasing number of Asian students and scholars. In this case, the local businesses would transform to accomodate those individuals' needs in order to get great profits. One key indicator is the distribution of Asian restaurants in each neighborhoods, since the restaurants types, quantities, locations, and popularity are always the true representation of the local neighrboods culture and ethnic diversity. \n",
    "\n",
    "#### Now multiple data sources, data analysis tools and clustering algorithm will be used to explore the distribution of Asian restaurants in Boston neighborhoods and to analyze which neighborhoods are more embracing for Asian American communities and their home owned businesses. In other words, this report will help answer the following questions: \n",
    "\n",
    "#### 1. Where should I open an Asian restaurants to have the best chances of getting profits? Or what is the most popular neighborhood location for Asian cuisine or eatery?\n",
    "#### 2. What Asian restaurants have the highest rating and where are they located? Do they also locate in those popular neighborhoods?\n",
    "#### 3. To what extent does the distribution of Asian restaurants represent the local economic activites of Asian American communities? Explore the other top venue/businesses categories in those popular neighborhoods where Asian restaurants are located.\n",
    "\n",
    "\n",
    "\n"
   ]
  },
  {
   "cell_type": "markdown",
   "metadata": {},
   "source": [
    "## Data \n",
    "#### In order to answer the above questions, data on Boston neighborhoods, including boundaries, latitude, longitude, restaurants, and restaurant ratings and tips are required.\n",
    "\n",
    "#### Boston neighborhoods, boundaries, latitudes and longitudes will be obtained from the data source via geojson file: https://data.boston.gov/dataset/boston-neighborhoods/resource/13ee2b65-6547-4168-b112-83995f138602\n",
    "\n",
    "#### Foursquare API will be used to locate all venues and filtered by Asian restaurants(i.e. Chinese, Japanese, Korean, Taiwanese, Indian, Thai, Vietnamese, Malaysian, Cantaonese, Asian Fusion, etc) via using search, explore or trending queries. Locations/neighborhoods, ratings, tips and likes for each restaurant will be counted, merged and added to a dataframe.\n",
    "\n",
    "#### Data will be organized, sorted, and analyzed based on ratings and neighborhoods. \n",
    "\n",
    "#### Top venue categories in popular neighborhoods will be analyzed and summarized.\n",
    "\n",
    "#### Most importantly, the cleaned dataframes with venue information be will be used to create K-means clustering model and geospatial visualizations to assess the local distribution of Asian American restaurants to answer the research problems.\n"
   ]
  },
  {
   "cell_type": "code",
   "execution_count": null,
   "metadata": {},
   "outputs": [],
   "source": []
  }
 ],
 "metadata": {
  "kernelspec": {
   "display_name": "Python 3",
   "language": "python",
   "name": "python3"
  },
  "language_info": {
   "codemirror_mode": {
    "name": "ipython",
    "version": 3
   },
   "file_extension": ".py",
   "mimetype": "text/x-python",
   "name": "python",
   "nbconvert_exporter": "python",
   "pygments_lexer": "ipython3",
   "version": "3.7.3"
  }
 },
 "nbformat": 4,
 "nbformat_minor": 2
}
